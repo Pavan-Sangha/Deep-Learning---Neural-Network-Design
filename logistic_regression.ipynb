{
 "cells": [
  {
   "cell_type": "code",
   "execution_count": 2,
   "metadata": {},
   "outputs": [],
   "source": [
    "import os\n",
    "import numpy as np\n",
    "from PIL import Image\n"
   ]
  },
  {
   "cell_type": "code",
   "execution_count": 3,
   "metadata": {},
   "outputs": [],
   "source": [
    "class image_pre_process:\n",
    "    \n",
    "    def __init__(self,file_path,bin_label0,bin_label1,iter_threshold = None):\n",
    "        \n",
    "        self.file_path = file_path \n",
    "        self.iters = iter_threshold\n",
    "        self.label0 = bin_label0\n",
    "        self.label1 = bin_label1\n",
    "    \n",
    "    def get_array(self):\n",
    "        if self.iters:\n",
    "            labels = []\n",
    "            X_flatten = []\n",
    "            label0_count = 0\n",
    "            label1_count = 0\n",
    "            \n",
    "            for file in os.listdir(self.file_path):\n",
    "                if file.startswith(self.label0) and label0_count<=self.iters:\n",
    "                    image = Image.open(os.path.join(self.file_path,file))\n",
    "                    image_resize = image.resize((200, 200), Image.ANTIALIAS)\n",
    "                    array = np.asarray(image_resize)\n",
    "                    array = array.swapaxes(1,2).swapaxes(1,0)\n",
    "                    image.close()\n",
    "                    array_new = array.flatten()\n",
    "                    X_flatten.append(array_new)\n",
    "                    labels.append(0)\n",
    "                    label0_count +=1\n",
    "                elif file.startswith(self.label1) and label1_count<=self.iters:\n",
    "                    image = Image.open(os.path.join(self.file_path,file))\n",
    "                    image_resize = image.resize((200, 200), Image.ANTIALIAS)\n",
    "                    array = np.asarray(image_resize)\n",
    "                    array = array.swapaxes(1,2).swapaxes(1,0)\n",
    "                    image.close()\n",
    "                    array_new = array.flatten()\n",
    "                    X_flatten.append(array_new)\n",
    "                    labels.append(1)\n",
    "                    label1_count +=1\n",
    "                    \n",
    "                if label0_count == self.iters and label1_count ==self.iters:\n",
    "                    break\n",
    "        else:\n",
    "                \n",
    "            labels = []\n",
    "            X_flatten = []\n",
    "                \n",
    "            for file in os.listdir(self.file_path):\n",
    "                image = Image.open(os.path.join(self.file_path,file))\n",
    "                image_resize = image.resize((200, 200), Image.ANTIALIAS)\n",
    "                array = np.asarray(image_resize)\n",
    "                array = array.swapaxes(1,2).swapaxes(1,0)\n",
    "                image.close()\n",
    "                array_new = array.flatten()\n",
    "                X_flatten.append(array_new)\n",
    "            if file.startswith(self.label0):\n",
    "                labels.append(0)\n",
    "            else:\n",
    "                labels.append(1)\n",
    "            \n",
    "            \n",
    "        return np.array(X_flatten),labels"
   ]
  },
  {
   "cell_type": "code",
   "execution_count": null,
   "metadata": {},
   "outputs": [],
   "source": []
  }
 ],
 "metadata": {
  "kernelspec": {
   "display_name": "Python 3",
   "language": "python",
   "name": "python3"
  },
  "language_info": {
   "codemirror_mode": {
    "name": "ipython",
    "version": 3
   },
   "file_extension": ".py",
   "mimetype": "text/x-python",
   "name": "python",
   "nbconvert_exporter": "python",
   "pygments_lexer": "ipython3",
   "version": "3.6.5"
  }
 },
 "nbformat": 4,
 "nbformat_minor": 2
}
