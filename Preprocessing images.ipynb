{
 "cells": [
  {
   "cell_type": "code",
   "execution_count": 102,
   "metadata": {},
   "outputs": [],
   "source": [
    "\n",
    "import os\n",
    "import h5py\n",
    "import sys\n",
    "import numpy as np\n",
    "import matplotlib\n",
    "from PIL import Image\n",
    "import pickle"
   ]
  },
  {
   "cell_type": "code",
   "execution_count": 115,
   "metadata": {},
   "outputs": [],
   "source": [
    "path_train = '/Users/psangha/Desktop/Deep-Learning---Neural-Network-Design/all/train'"
   ]
  },
  {
   "cell_type": "code",
   "execution_count": 116,
   "metadata": {},
   "outputs": [],
   "source": [
    "path_test = '/Users/psangha/Desktop/Deep-Learning---Neural-Network-Design/all/test1'"
   ]
  },
  {
   "cell_type": "markdown",
   "metadata": {},
   "source": [
    "* The shape of each image is (R,C,3) \n",
    "* Thus there are R rows C columns each with 3 RBG pixels"
   ]
  },
  {
   "cell_type": "code",
   "execution_count": 120,
   "metadata": {},
   "outputs": [],
   "source": [
    "### Preprocessing \n",
    "\n",
    "def load_training_data(file_path,label1):\n",
    "    labels = []\n",
    "    X_flatten = []\n",
    "    for file in os.listdir(file_path):\n",
    "        image = Image.open(os.path.join(file_path,file))\n",
    "        image_resize = image.resize((200, 200), Image.ANTIALIAS)\n",
    "        array = np.asarray(image_resize)\n",
    "        image.close()\n",
    "        array_new = array.flatten()\n",
    "        X_flatten.append(array_new)\n",
    "        if file.startswith(label1):\n",
    "            labels.append(0)\n",
    "        else:\n",
    "            labels.append(1)\n",
    "    return np.array(X_flatten),labels\n",
    "\n",
    "def load_test_data(file_path):\n",
    "    X_flatten = []\n",
    "    for file in os.listdir(file_path):\n",
    "        image = Image.open(os.path.join(file_path,file))\n",
    "        image_resize = image.resize((200, 200), Image.ANTIALIAS)\n",
    "        array = np.asarray(image_resize)\n",
    "        image.close()\n",
    "        array_new = array.flatten()\n",
    "        X_flatten.append(array_new)\n",
    "    return np.array(X_flatten)\n",
    "        "
   ]
  },
  {
   "cell_type": "code",
   "execution_count": 123,
   "metadata": {},
   "outputs": [],
   "source": [
    "X_flatten, y_label = load_training_data(path_train,'cat')"
   ]
  },
  {
   "cell_type": "code",
   "execution_count": 101,
   "metadata": {},
   "outputs": [
    {
     "data": {
      "text/plain": [
       "(120000,)"
      ]
     },
     "execution_count": 101,
     "metadata": {},
     "output_type": "execute_result"
    }
   ],
   "source": [
    "X_flatten[1].shape"
   ]
  },
  {
   "cell_type": "code",
   "execution_count": 121,
   "metadata": {},
   "outputs": [],
   "source": [
    "X_test_flatten = load_test_data(path_test)"
   ]
  }
 ],
 "metadata": {
  "kernelspec": {
   "display_name": "Python 3",
   "language": "python",
   "name": "python3"
  },
  "language_info": {
   "codemirror_mode": {
    "name": "ipython",
    "version": 3
   },
   "file_extension": ".py",
   "mimetype": "text/x-python",
   "name": "python",
   "nbconvert_exporter": "python",
   "pygments_lexer": "ipython3",
   "version": "3.6.5"
  }
 },
 "nbformat": 4,
 "nbformat_minor": 2
}
