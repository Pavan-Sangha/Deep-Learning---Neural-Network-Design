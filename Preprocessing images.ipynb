{
 "cells": [
  {
   "cell_type": "code",
   "execution_count": 33,
   "metadata": {},
   "outputs": [],
   "source": [
    "\n",
    "import os\n",
    "import h5py\n",
    "import sys\n",
    "import numpy as np\n",
    "import matplotlib\n",
    "from PIL import Image\n",
    "import pickle"
   ]
  },
  {
   "cell_type": "code",
   "execution_count": 30,
   "metadata": {},
   "outputs": [],
   "source": [
    "path_train = '/Users/psangha/Desktop/Deep-Learning---Neural-Network-Design/all/train'"
   ]
  },
  {
   "cell_type": "code",
   "execution_count": 116,
   "metadata": {},
   "outputs": [],
   "source": [
    "path_test = '/Users/psangha/Desktop/Deep-Learning---Neural-Network-Design/all/test1'"
   ]
  },
  {
   "cell_type": "code",
   "execution_count": null,
   "metadata": {},
   "outputs": [],
   "source": [
    "path_example = '/Users/psangha/Desktop/Deep-Learning---Neural-Network-Design/all/train/cat.0.jpg'"
   ]
  },
  {
   "cell_type": "markdown",
   "metadata": {},
   "source": [
    "* The shape of each image is (R,C,3) \n",
    "* Thus there are R rows C columns each with 3 RBG pixels"
   ]
  },
  {
   "cell_type": "code",
   "execution_count": 120,
   "metadata": {},
   "outputs": [],
   "source": [
    "### Preprocessing \n",
    "\n",
    "def load_training_data(file_path,label1):\n",
    "    labels = []\n",
    "    X_flatten = []\n",
    "    for file in os.listdir(file_path):\n",
    "        image = Image.open(os.path.join(file_path,file))\n",
    "        image_resize = image.resize((200, 200), Image.ANTIALIAS)\n",
    "        array = np.asarray(image_resize)\n",
    "        array = array.swapaxes(1,2).swapaxes(1,0)\n",
    "        image.close()\n",
    "        array_new = array.flatten()\n",
    "        X_flatten.append(array_new)\n",
    "        if file.startswith(label1):\n",
    "            labels.append(0)\n",
    "        else:\n",
    "            labels.append(1)\n",
    "    return np.array(X_flatten),labels\n",
    "\n",
    "def load_test_data(file_path):\n",
    "    X_flatten = []\n",
    "    for file in os.listdir(file_path):\n",
    "        image = Image.open(os.path.join(file_path,file))\n",
    "        image_resize = image.resize((200, 200), Image.ANTIALIAS)\n",
    "        array = np.asarray(image_resize)\n",
    "        array = array.swapaxes(1,2).swapaxes(1,0)\n",
    "        image.close()\n",
    "        array_new = array.flatten()\n",
    "        X_flatten.append(array_new)\n",
    "    return np.array(X_flatten)\n",
    "        "
   ]
  },
  {
   "cell_type": "code",
   "execution_count": 175,
   "metadata": {},
   "outputs": [],
   "source": [
    "X_flatten, y_label = load_training_data(path_train,'cat')"
   ]
  },
  {
   "cell_type": "code",
   "execution_count": 101,
   "metadata": {},
   "outputs": [
    {
     "data": {
      "text/plain": [
       "(120000,)"
      ]
     },
     "execution_count": 101,
     "metadata": {},
     "output_type": "execute_result"
    }
   ],
   "source": [
    "X_flatten[1].shape"
   ]
  },
  {
   "cell_type": "code",
   "execution_count": 121,
   "metadata": {},
   "outputs": [],
   "source": [
    "X_test_flatten = load_test_data(path_test)"
   ]
  },
  {
   "cell_type": "code",
   "execution_count": 42,
   "metadata": {},
   "outputs": [],
   "source": [
    "class image_pre_process:\n",
    "    \n",
    "    def __init__(self,file_path, processing_type,bin_label0,bin_label1,iter_threshold = None):\n",
    "        if processing_type!='training' and processing_type!='test':\n",
    "            raise TypeError('processing_type must be training or test')\n",
    "        self.file_path = file_path \n",
    "        self.iters = iter_threshold\n",
    "        self.processing_type = processing_type\n",
    "        self.label0 = bin_label0\n",
    "        self.label1 = bin_label1\n",
    "    \n",
    "    def get_training_array(self):\n",
    "        if self.iters:\n",
    "            labels = []\n",
    "            X_flatten = []\n",
    "            label0_count = 0\n",
    "            label1_count = 0\n",
    "            \n",
    "            for file in os.listdir(self.file_path):\n",
    "                if file.startswith(self.label0) and label0_count<=self.iters:\n",
    "                    image = Image.open(os.path.join(self.file_path,file))\n",
    "                    image_resize = image.resize((200, 200), Image.ANTIALIAS)\n",
    "                    array = np.asarray(image_resize)\n",
    "                    array = array.swapaxes(1,2).swapaxes(1,0)\n",
    "                    image.close()\n",
    "                    array_new = array.flatten()\n",
    "                    X_flatten.append(array_new)\n",
    "                    labels.append(0)\n",
    "                    label0_count +=1\n",
    "                elif file.startswith(self.label1) and label1_count<=self.iters:\n",
    "                    image = Image.open(os.path.join(self.file_path,file))\n",
    "                    image_resize = image.resize((200, 200), Image.ANTIALIAS)\n",
    "                    array = np.asarray(image_resize)\n",
    "                    array = array.swapaxes(1,2).swapaxes(1,0)\n",
    "                    image.close()\n",
    "                    array_new = array.flatten()\n",
    "                    X_flatten.append(array_new)\n",
    "                    labels.append(1)\n",
    "                    label1_count +=1\n",
    "                    \n",
    "                if label0_count == self.iters and label1_count ==self.iters:\n",
    "                    break\n",
    "            return np.array(X_flatten),labels\n",
    "                    \n",
    "        \n",
    "            \n",
    "            \n",
    "            \n",
    "    \n",
    "    "
   ]
  },
  {
   "cell_type": "code",
   "execution_count": 43,
   "metadata": {},
   "outputs": [
    {
     "data": {
      "text/plain": [
       "(array([[ 25,  16,  22, ...,  78,  81,  84],\n",
       "        [ 56,  46,  37, ...,  60,  64,  83],\n",
       "        [ 86,  99, 100, ..., 111, 115, 118],\n",
       "        ...,\n",
       "        [199, 196, 201, ...,  75,  72,  71],\n",
       "        [163, 166, 154, ..., 142, 134, 121],\n",
       "        [ 22,  22,  22, ...,  27,  26,  26]], dtype=uint8),\n",
       " [1, 0, 1, 0, 0, 0, 1, 0, 0, 1, 0, 0, 0, 1, 1, 1, 0, 1, 1, 0, 1, 1])"
      ]
     },
     "execution_count": 43,
     "metadata": {},
     "output_type": "execute_result"
    }
   ],
   "source": [
    "a = image_pre_process(path_train,'training','cat','dog',iter_threshold = 10)\n",
    "a.get_training_array()\n"
   ]
  },
  {
   "cell_type": "markdown",
   "metadata": {},
   "source": [
    "### Test"
   ]
  },
  {
   "cell_type": "code",
   "execution_count": 142,
   "metadata": {},
   "outputs": [],
   "source": [
    "x = np.array([   [[1,2,3],[4,5,6]],[[7,8,9],[10,11,12]]])"
   ]
  },
  {
   "cell_type": "code",
   "execution_count": 145,
   "metadata": {},
   "outputs": [
    {
     "data": {
      "text/plain": [
       "(2, 2, 3)"
      ]
     },
     "execution_count": 145,
     "metadata": {},
     "output_type": "execute_result"
    }
   ],
   "source": [
    "x.shape"
   ]
  },
  {
   "cell_type": "code",
   "execution_count": 146,
   "metadata": {},
   "outputs": [
    {
     "data": {
      "text/plain": [
       "array([ 1,  2,  3,  4,  5,  6,  7,  8,  9, 10, 11, 12])"
      ]
     },
     "execution_count": 146,
     "metadata": {},
     "output_type": "execute_result"
    }
   ],
   "source": [
    "x.flatten()"
   ]
  },
  {
   "cell_type": "code",
   "execution_count": 148,
   "metadata": {},
   "outputs": [
    {
     "data": {
      "text/plain": [
       "array([[[ 1,  2],\n",
       "        [ 3,  4]],\n",
       "\n",
       "       [[ 5,  6],\n",
       "        [ 7,  8]],\n",
       "\n",
       "       [[ 9, 10],\n",
       "        [11, 12]]])"
      ]
     },
     "execution_count": 148,
     "metadata": {},
     "output_type": "execute_result"
    }
   ],
   "source": [
    "np.reshape(x,(3,2,2))"
   ]
  },
  {
   "cell_type": "code",
   "execution_count": 149,
   "metadata": {},
   "outputs": [
    {
     "data": {
      "text/plain": [
       "array([[[ 1,  2,  3],\n",
       "        [ 4,  5,  6]],\n",
       "\n",
       "       [[ 7,  8,  9],\n",
       "        [10, 11, 12]]])"
      ]
     },
     "execution_count": 149,
     "metadata": {},
     "output_type": "execute_result"
    }
   ],
   "source": [
    "x"
   ]
  },
  {
   "cell_type": "code",
   "execution_count": 164,
   "metadata": {},
   "outputs": [
    {
     "data": {
      "text/plain": [
       "array([[[ 1,  4],\n",
       "        [ 7, 10]],\n",
       "\n",
       "       [[ 2,  5],\n",
       "        [ 8, 11]],\n",
       "\n",
       "       [[ 3,  6],\n",
       "        [ 9, 12]]])"
      ]
     },
     "execution_count": 164,
     "metadata": {},
     "output_type": "execute_result"
    }
   ],
   "source": [
    "x.swapaxes(1,2).swapaxes(1,0)"
   ]
  },
  {
   "cell_type": "code",
   "execution_count": 159,
   "metadata": {},
   "outputs": [
    {
     "data": {
      "text/plain": [
       "array([[[ 1,  4],\n",
       "        [ 7, 10]],\n",
       "\n",
       "       [[ 2,  5],\n",
       "        [ 8, 10]],\n",
       "\n",
       "       [[ 3,  6],\n",
       "        [ 9, 12]]])"
      ]
     },
     "execution_count": 159,
     "metadata": {},
     "output_type": "execute_result"
    }
   ],
   "source": [
    "y = np.array([[[1,4],[7,10]],[[2,5],[8,10]],[[3,6],[9,12]]])\n",
    "y"
   ]
  },
  {
   "cell_type": "code",
   "execution_count": 152,
   "metadata": {},
   "outputs": [
    {
     "data": {
      "text/plain": [
       "(3, 2, 2)"
      ]
     },
     "execution_count": 152,
     "metadata": {},
     "output_type": "execute_result"
    }
   ],
   "source": [
    "y.shape"
   ]
  },
  {
   "cell_type": "code",
   "execution_count": 155,
   "metadata": {},
   "outputs": [
    {
     "data": {
      "text/plain": [
       "array([[1, 2, 3],\n",
       "       [4, 5, 6]])"
      ]
     },
     "execution_count": 155,
     "metadata": {},
     "output_type": "execute_result"
    }
   ],
   "source": [
    "x[0]"
   ]
  },
  {
   "cell_type": "code",
   "execution_count": 154,
   "metadata": {},
   "outputs": [
    {
     "data": {
      "text/plain": [
       "(2, 3)"
      ]
     },
     "execution_count": 154,
     "metadata": {},
     "output_type": "execute_result"
    }
   ],
   "source": [
    "x[0].shape"
   ]
  },
  {
   "cell_type": "code",
   "execution_count": 158,
   "metadata": {},
   "outputs": [
    {
     "data": {
      "text/plain": [
       "array([1, 2, 3, 4, 5, 6])"
      ]
     },
     "execution_count": 158,
     "metadata": {},
     "output_type": "execute_result"
    }
   ],
   "source": [
    "x[0].flatten()"
   ]
  },
  {
   "cell_type": "code",
   "execution_count": 165,
   "metadata": {},
   "outputs": [],
   "source": [
    "path_example = '/Users/psangha/Desktop/Deep-Learning---Neural-Network-Design/all/train/cat.0.jpg'"
   ]
  },
  {
   "cell_type": "code",
   "execution_count": 168,
   "metadata": {},
   "outputs": [],
   "source": [
    "image = Image.open(path_example)\n",
    "image_resize = image.resize((200, 200), Image.ANTIALIAS)"
   ]
  },
  {
   "cell_type": "code",
   "execution_count": 169,
   "metadata": {},
   "outputs": [],
   "source": [
    "z = np.asarray(image_resize)"
   ]
  },
  {
   "cell_type": "code",
   "execution_count": 171,
   "metadata": {},
   "outputs": [
    {
     "data": {
      "text/plain": [
       "(200, 200, 3)"
      ]
     },
     "execution_count": 171,
     "metadata": {},
     "output_type": "execute_result"
    }
   ],
   "source": [
    "z.shape"
   ]
  },
  {
   "cell_type": "code",
   "execution_count": 172,
   "metadata": {},
   "outputs": [],
   "source": [
    "z_swap = z.swapaxes(1,2).swapaxes(1,0)"
   ]
  },
  {
   "cell_type": "code",
   "execution_count": 174,
   "metadata": {},
   "outputs": [
    {
     "data": {
      "text/plain": [
       "(3, 200, 200)"
      ]
     },
     "execution_count": 174,
     "metadata": {},
     "output_type": "execute_result"
    }
   ],
   "source": [
    "z_swap.shape"
   ]
  },
  {
   "cell_type": "code",
   "execution_count": null,
   "metadata": {},
   "outputs": [],
   "source": []
  }
 ],
 "metadata": {
  "kernelspec": {
   "display_name": "Python 3",
   "language": "python",
   "name": "python3"
  },
  "language_info": {
   "codemirror_mode": {
    "name": "ipython",
    "version": 3
   },
   "file_extension": ".py",
   "mimetype": "text/x-python",
   "name": "python",
   "nbconvert_exporter": "python",
   "pygments_lexer": "ipython3",
   "version": "3.6.5"
  }
 },
 "nbformat": 4,
 "nbformat_minor": 2
}
